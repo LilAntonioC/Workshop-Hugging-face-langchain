{
 "cells": [
  {
   "cell_type": "markdown",
   "id": "b49b7d74",
   "metadata": {},
   "source": [
    "By Alan Emilio Pérez León"
   ]
  },
  {
   "cell_type": "code",
   "execution_count": 3,
   "id": "58c99942",
   "metadata": {},
   "outputs": [],
   "source": [
    "import os\n",
    "\n",
    "from dotenv import load_dotenv\n",
    "from pydantic import BaseModel, Field\n",
    "from langchain_ollama import ChatOllama\n",
    "from langchain_openai import ChatOpenAI\n",
    "from langchain.prompts import PromptTemplate\n",
    "from langchain.output_parsers import PydanticOutputParser\n",
    "from langchain.document_loaders import PyPDFLoader\n",
    "from typing import List, Optional\n",
    "from pydantic import BaseModel\n"
   ]
  },
  {
   "cell_type": "markdown",
   "id": "bbd26dae",
   "metadata": {},
   "source": [
    "# 🧠 Homework: Building Custom Tools with LangChain Agents\n",
    "\n",
    "In this assignment, you'll define and implement custom tools that can be used by an agent to solve problems a language model might struggle with on its own. These tools will cover math, date manipulation, and temperature conversion."
   ]
  },
  {
   "cell_type": "code",
   "execution_count": 247,
   "id": "e4567895",
   "metadata": {},
   "outputs": [],
   "source": [
    "llm = ChatOllama(model=\"llama3.2\", temperature=0)\n"
   ]
  },
  {
   "cell_type": "markdown",
   "id": "372bc4df",
   "metadata": {},
   "source": [
    "## ✅ Tasks"
   ]
  },
  {
   "cell_type": "markdown",
   "id": "55bffb40",
   "metadata": {},
   "source": [
    "### 1. Basic Math Expressions\n",
    "Create tools that evaluate the following expressions:\n",
    "\n",
    "- Compute the result of: `(10 / 2) + 4 * (1 + 1)`\n",
    "- Calculate the result of: `(8 + 2) * (5 - 3) / 2`\n",
    "\n",
    "> 💡 Each tool should receive the expression as a string input and return the result as a string.\n",
    "\n",
    "### 2. Date Difference Calculation\n",
    "Create a tool that answers the following:\n",
    "\n",
    "- How many days have passed from `January 1, 1995` to **today**?\n",
    "\n",
    "> 💡 The tool should accept a date in `YYYY-MM-DD` format and return the number of days between that date and today.\n",
    "\n",
    "---\n",
    "\n",
    "### 3. Temperature Conversion\n",
    "Build a tool for converting temperatures:\n",
    "\n",
    "- Create a tool that takes a temperature in **Fahrenheit** (e.g., `\"98.6\"`)  \n",
    "  and returns the equivalent in **Celsius** using the formula:\n",
    "\n",
    "```text\n",
    "(F - 32) * 5 / 9\n",
    "````\n",
    "\n",
    "---\n",
    "\n",
    "### 4. Solve a Quadratic Equation\n",
    "\n",
    "Implement a tool to solve quadratic equations:\n",
    "\n",
    "* Create a tool that takes three coefficients `a`, `b`, and `c`, and returns the real roots (if they exist) of the equation:\n",
    "\n",
    "```text\n",
    "ax² + bx + c = 0\n",
    "```\n",
    "\n",
    "Use the **quadratic formula**:\n",
    "\n",
    "```text\n",
    "(-b ± sqrt(b² - 4ac)) / (2a)\n",
    "```\n",
    "\n",
    "> 💡 Handle cases where there are:\n",
    ">\n",
    "> * Two real roots\n",
    "> * One real root\n",
    "> * No real roots (discriminant < 0)\n",
    "\n",
    "---"
   ]
  },
  {
   "cell_type": "code",
   "execution_count": null,
   "id": "570ddb9e",
   "metadata": {},
   "outputs": [],
   "source": [
    "from langchain.agents import Tool, tool\n",
    "from langchain_ollama import ChatOllama\n",
    "from langchain_openai import ChatOpenAI\n",
    "from langchain import hub\n",
    "from langchain.agents import create_tool_calling_agent, create_react_agent\n",
    "from langchain.agents import AgentExecutor\n",
    "from datetime import date, datetime\n",
    "\n",
    "\n",
    "def solve_operations(input: str):\n",
    "    return str(eval(input)).join(\"\\n\")\n",
    "\n",
    "def date_differences(inputdate : str) : \n",
    "    \n",
    "    d1 = datetime.strptime(inputdate, r\"%Y-%m-%d\").date()\n",
    "    d2 = date.today()\n",
    "    return str( abs((d2 - d1).days) ).join(\"\\n\")\n",
    "\n",
    "def temperature_conversion(temp : str) : \n",
    "    return str(( float(temp) - 32 )  * 5 / 9 )\n",
    "\n",
    "def quadratic_equation(input: str):\n",
    "    parts = input.strip().split(\",\")\n",
    "    \n",
    "    if len(parts) != 3:\n",
    "        return \"ERROR: You must input exactly 3 comma-separated numbers like '1,2,-3'\\n\"\n",
    "    \n",
    "    try:\n",
    "        a, b, c = map(float, parts)\n",
    "    except ValueError:\n",
    "        return \"ERROR: All inputs must be numeric. Use format like '1,2,-3'\\n\"\n",
    "\n",
    "    if a == 0:\n",
    "        return \"ERROR: 'a' must not be 0 in a quadratic equation\\n\"\n",
    "\n",
    "    disc = b**2 - 4*a*c\n",
    "    if disc < 0:\n",
    "        return \"No real roots\\n\"\n",
    "    if disc == 0:\n",
    "        return f\"The solution is {-b / ( 2 * a )}\\n\"\n",
    "    sqrt_disc = disc**0.5\n",
    "    r1 = (-b + sqrt_disc) / (2*a)\n",
    "    r2 = (-b - sqrt_disc) / (2*a)\n",
    "    return f\"First solution is {r1} and the second solution is {r2}\\n\"\n",
    "\n",
    "    \n",
    "    \n",
    "    res = []\n",
    "    res.append( (-quo[1] + discriminant ) / (2*quo[0]))\n",
    "    res.append( (-quo[1] - discriminant ) / (2*quo[0]))\n",
    "    \n",
    "\n",
    "tools = [\n",
    "Tool(\n",
    "    name=\"TemperatureConversion\",\n",
    "    func=temperature_conversion,\n",
    "    description=\"Convert farenheit degrees into Celsius . JUST Input a decimal value like '113.5'.\"\n",
    "),\n",
    "Tool(\n",
    "    name=\"Calculator\",\n",
    "    func=solve_operations,\n",
    "    description=\"Evaluates simple math expressions like '10 / 8 + 4 * (2 + 1)'.\"\n",
    "),\n",
    "Tool(\n",
    "    name=\"DateDifference\",\n",
    "    func=date_differences,\n",
    "    description=\"Get how many days have passed since a date. You have to format the given date into YYYY-MM-DD\"\n",
    "),\n",
    "\n",
    "Tool(\n",
    "    name=\"QuadraticSolver\",\n",
    "    func=quadratic_equation,\n",
    "    description=\"\"\"\n",
    "    Solves a quadriatic equation in the form ax^2 + bx + c where a,b,c are the quofficients\n",
    "    \n",
    "    INPUT : a STRING of 3 (THREE, the THIRD number) comma separated values in the form a,b,c EG. 10,2,-3\n",
    "    If a quofficient is missing use 0 for that quofficient. If there is no quofficient and just the term, use 0\n",
    "    EXAMPLES : 10x^2 + 9x - 3 becomes 10,9,-3\n",
    "    EXAMPLES : 5x^2- 2 becomes 5, 0, -2 because there is no b\n",
    "    EXAMPLES : x^2 becomes 1, 0, 0 Because there is no b or c\n",
    "    \n",
    "    \"\"\"\n",
    "),\n",
    "\n",
    "]\n"
   ]
  },
  {
   "cell_type": "code",
   "execution_count": 274,
   "id": "83eed667",
   "metadata": {},
   "outputs": [
    {
     "name": "stderr",
     "output_type": "stream",
     "text": [
      "c:\\Users\\tomat\\anaconda3\\envs\\statisticWorks\\Lib\\site-packages\\langsmith\\client.py:272: LangSmithMissingAPIKeyWarning: API key must be provided when using hosted LangSmith API\n",
      "  warnings.warn(\n"
     ]
    }
   ],
   "source": [
    "prompt = hub.pull(\"hwchase17/openai-functions-agent\")\n",
    "agent = create_tool_calling_agent(llm, tools, prompt)\n",
    "executor = AgentExecutor(agent=agent, tools=tools, verbose=True)"
   ]
  },
  {
   "cell_type": "code",
   "execution_count": 87,
   "id": "bf44e9fa",
   "metadata": {},
   "outputs": [
    {
     "name": "stdout",
     "output_type": "stream",
     "text": [
      "\n",
      "\n",
      "\u001b[1m> Entering new AgentExecutor chain...\u001b[0m\n",
      "\u001b[32;1m\u001b[1;3m\n",
      "Invoking: `Calculator` with `( 10 / 2 ) + 4 * ( 1 + 1 )`\n",
      "\n",
      "\n",
      "\u001b[0m\u001b[33;1m\u001b[1;3m13.0\u001b[0m\u001b[32;1m\u001b[1;3mThe final answer is $\\boxed{13.0}$.\u001b[0m\n",
      "\n",
      "\u001b[1m> Finished chain.\u001b[0m\n",
      "Result: The final answer is $\\boxed{13.0}$.\n"
     ]
    }
   ],
   "source": [
    "result = executor.invoke({\"input\": \"Solve the equation ( 10 / 2 ) + 4 * ( 1 + 1 ) \"} )\n",
    "print(\"Result:\", result[\"output\"])"
   ]
  },
  {
   "cell_type": "code",
   "execution_count": 86,
   "id": "8e6130ae",
   "metadata": {},
   "outputs": [
    {
     "name": "stdout",
     "output_type": "stream",
     "text": [
      "\n",
      "\n",
      "\u001b[1m> Entering new AgentExecutor chain...\u001b[0m\n",
      "\u001b[32;1m\u001b[1;3m\n",
      "Invoking: `DateDifference` with `2025-06-05`\n",
      "\n",
      "\n",
      "\u001b[0m\u001b[38;5;200m\u001b[1;3m3\u001b[0m\u001b[32;1m\u001b[1;3mSince June 5th, 2025 has been 3 days.\u001b[0m\n",
      "\n",
      "\u001b[1m> Finished chain.\u001b[0m\n",
      "Result: Since June 5th, 2025 has been 3 days.\n"
     ]
    }
   ],
   "source": [
    "result = executor.invoke({\"input\": \"How many days have passed since June 5th 2025\"} )\n",
    "print(\"Result:\", result[\"output\"])"
   ]
  },
  {
   "cell_type": "code",
   "execution_count": 275,
   "id": "8e95a9ae",
   "metadata": {},
   "outputs": [
    {
     "name": "stdout",
     "output_type": "stream",
     "text": [
      "\n",
      "\n",
      "\u001b[1m> Entering new AgentExecutor chain...\u001b[0m\n",
      "\u001b[32;1m\u001b[1;3m\n",
      "Invoking: `TemperatureConversion` with `1491`\n",
      "\n",
      "\n",
      "\u001b[0m\u001b[36;1m\u001b[1;3m810.5555555555555\u001b[0m\u001b[32;1m\u001b[1;3mThe temperature of 1491°F is equivalent to approximately 810.56°C.\u001b[0m\n",
      "\n",
      "\u001b[1m> Finished chain.\u001b[0m\n",
      "Result: The temperature of 1491°F is equivalent to approximately 810.56°C.\n"
     ]
    }
   ],
   "source": [
    "\n",
    "result = executor.invoke({\"input\": \"Convert 1491 farenheit in celcius\"} )\n",
    "print(\"Result:\", result[\"output\"])"
   ]
  },
  {
   "cell_type": "code",
   "execution_count": 117,
   "id": "f9d18302",
   "metadata": {},
   "outputs": [
    {
     "name": "stdout",
     "output_type": "stream",
     "text": [
      "\n",
      "\n",
      "\u001b[1m> Entering new AgentExecutor chain...\u001b[0m\n",
      "\u001b[32;1m\u001b[1;3m\n",
      "Invoking: `QuadraticSolver` with `2,3,-15`\n",
      "\n",
      "\n",
      "\u001b[0m\u001b[36;1m\u001b[1;3mFirst solution is 2.089454172900137 and the second solution is -3.589454172900137\u001b[0m\u001b[32;1m\u001b[1;3mThe solutions to the quadratic equation 2x^2 + 3x - 15 are approximately 2.0895 and -3.5895.\u001b[0m\n",
      "\n",
      "\u001b[1m> Finished chain.\u001b[0m\n",
      "Result: The solutions to the quadratic equation 2x^2 + 3x - 15 are approximately 2.0895 and -3.5895.\n"
     ]
    }
   ],
   "source": [
    "\n",
    "result = executor.invoke({\"input\": \"Give me the solution of the quadratic equation : 2 x^2 + 3 x - 15 \"} )\n",
    "print(\"Result:\", result[\"output\"])"
   ]
  },
  {
   "cell_type": "code",
   "execution_count": null,
   "id": "b2f86b6a",
   "metadata": {},
   "outputs": [
    {
     "name": "stdout",
     "output_type": "stream",
     "text": [
      "\n",
      "\n",
      "\u001b[1m> Entering new AgentExecutor chain...\u001b[0m\n",
      "\u001b[32;1m\u001b[1;3m\n",
      "Invoking: `QuadraticSolver` with `2,3,15`\n",
      "\n",
      "\n",
      "\u001b[0m\u001b[36;1m\u001b[1;3mThe given equation has imaginary roots. DO NOT CONTINUE.\u001b[0m\u001b[32;1m\u001b[1;3mI can't provide a solution for an equation with imaginary roots. If you have any other question or need assistance with a different topic, feel free to ask!\u001b[0m\n",
      "\n",
      "\u001b[1m> Finished chain.\u001b[0m\n",
      "Result: I can't provide a solution for an equation with imaginary roots. If you have any other question or need assistance with a different topic, feel free to ask!\n"
     ]
    }
   ],
   "source": [
    "# I also wanted to test out \"stop conditions\" with this one\n",
    "# because the model wanted to ALWAYS have an answer\n",
    "result = executor.invoke({\"input\": \"Give me the solution of the quadratic equation : 2 x^2 + 3 x + 15 \"} )\n",
    "print(\"Result:\", result[\"output\"])"
   ]
  },
  {
   "cell_type": "code",
   "execution_count": null,
   "id": "364404e1",
   "metadata": {},
   "outputs": [
    {
     "name": "stdout",
     "output_type": "stream",
     "text": [
      "\n",
      "\n",
      "\u001b[1m> Entering new AgentExecutor chain...\u001b[0m\n",
      "\u001b[32;1m\u001b[1;3m\n",
      "Invoking: `QuadraticSolver` with `3,0,-27`\n",
      "\n",
      "\n",
      "\u001b[0m\u001b[36;1m\u001b[1;3mFirst solution is 3.0 and the second solution is -3.0\n",
      "\u001b[0m\u001b[32;1m\u001b[1;3mThe solutions to the quadratic equation 3x^2 - 27 = 0 are:\n",
      "\n",
      "x = 3 (first solution)\n",
      "x = -3 (second solution)\u001b[0m\n",
      "\n",
      "\u001b[1m> Finished chain.\u001b[0m\n",
      "Result: The solutions to the quadratic equation 3x^2 - 27 = 0 are:\n",
      "\n",
      "x = 3 (first solution)\n",
      "x = -3 (second solution)\n"
     ]
    }
   ],
   "source": [
    "\n",
    "result = executor.invoke({\"input\": \"Give me the solution of the quadratic equation : 3x^2 - 27 \"} )\n",
    "print(\"Result:\", result[\"output\"])"
   ]
  },
  {
   "cell_type": "code",
   "execution_count": 251,
   "id": "d13d9e74",
   "metadata": {},
   "outputs": [
    {
     "name": "stdout",
     "output_type": "stream",
     "text": [
      "\n",
      "\n",
      "\u001b[1m> Entering new AgentExecutor chain...\u001b[0m\n",
      "\u001b[32;1m\u001b[1;3m\n",
      "Invoking: `QuadraticSolver` with `1,0,0`\n",
      "\n",
      "\n",
      "\u001b[0m\u001b[36;1m\u001b[1;3mThe solution is -0.0\n",
      "\u001b[0m\u001b[32;1m\u001b[1;3mThe final answer is $\\boxed{0}$.\u001b[0m\n",
      "\n",
      "\u001b[1m> Finished chain.\u001b[0m\n",
      "Result: The final answer is $\\boxed{0}$.\n"
     ]
    }
   ],
   "source": [
    "# WOW it really HATES listening to instructions...\n",
    "\n",
    "result = executor.invoke({\"input\": \"Give me the solution of the quadratic equation : x^2 \"} )\n",
    "print(\"Result:\", result[\"output\"])"
   ]
  },
  {
   "cell_type": "code",
   "execution_count": null,
   "id": "04bb49e3",
   "metadata": {},
   "outputs": [],
   "source": []
  }
 ],
 "metadata": {
  "kernelspec": {
   "display_name": "statisticWorks",
   "language": "python",
   "name": "python3"
  },
  "language_info": {
   "codemirror_mode": {
    "name": "ipython",
    "version": 3
   },
   "file_extension": ".py",
   "mimetype": "text/x-python",
   "name": "python",
   "nbconvert_exporter": "python",
   "pygments_lexer": "ipython3",
   "version": "3.11.9"
  }
 },
 "nbformat": 4,
 "nbformat_minor": 5
}
